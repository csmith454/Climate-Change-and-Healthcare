{
 "cells": [
  {
   "cell_type": "markdown",
   "metadata": {
    "id": "rD9OZzbsDgPT"
   },
   "source": [
    "### Exploring Relationship between Temperature Change and Health Expenditure Globally"
   ]
  },
  {
   "cell_type": "markdown",
   "metadata": {
    "id": "4arOEJFSDgPV"
   },
   "source": [
    "##### Cole Smith,Ginger Hudson, Ritika Palacharla"
   ]
  },
  {
   "cell_type": "code",
   "execution_count": null,
   "metadata": {
    "id": "i2mbnQt1kb9N",
    "scrolled": true
   },
   "outputs": [],
   "source": [
    "# import libraries\n",
    "import pandas as pd\n",
    "import matplotlib.pyplot as plt\n",
    "import plotly.graph_objects as go\n",
    "import plotly.express as px\n",
    "import altair as alt\n",
    "import numpy as np\n",
    "import plotly.io as pio\n",
    "import json"
   ]
  },
  {
   "cell_type": "markdown",
   "metadata": {
    "id": "pzJMSbhrDgPW"
   },
   "source": [
    "#### Data Cleaning and Standardization"
   ]
  },
  {
   "cell_type": "code",
   "execution_count": null,
   "metadata": {
    "id": "H1Y8yqaQk-FX"
   },
   "outputs": [],
   "source": [
    "# import simplified dataset from World Health Organization\n",
    "df_health = pd.read_csv('Simplified_GHED_data.csv')"
   ]
  },
  {
   "cell_type": "code",
   "execution_count": null,
   "metadata": {
    "colab": {
     "base_uri": "https://localhost:8080/"
    },
    "id": "BR9xOwLjmJZi",
    "outputId": "5912c462-4e47-40a3-f443-80f7513d612d"
   },
   "outputs": [],
   "source": [
    "df_health.info()"
   ]
  },
  {
   "cell_type": "code",
   "execution_count": null,
   "metadata": {
    "colab": {
     "base_uri": "https://localhost:8080/"
    },
    "id": "LyBBpPIxJW0Z",
    "outputId": "2eac21a2-ba4a-4666-b0ba-ebcc8353e755"
   },
   "outputs": [],
   "source": [
    "df_health.shape"
   ]
  },
  {
   "cell_type": "code",
   "execution_count": null,
   "metadata": {
    "colab": {
     "base_uri": "https://localhost:8080/",
     "height": 330
    },
    "id": "RSy0hICnJW0a",
    "outputId": "db32e57c-8d01-492e-8129-5ce267d617b8"
   },
   "outputs": [],
   "source": [
    "df_health.head(5)"
   ]
  },
  {
   "cell_type": "code",
   "execution_count": null,
   "metadata": {
    "colab": {
     "base_uri": "https://localhost:8080/",
     "height": 330
    },
    "id": "vgKz0hi9JW0b",
    "outputId": "0444daf1-5b31-4bcd-9cc9-dd0c09dc3999"
   },
   "outputs": [],
   "source": [
    "df_health.tail(5)"
   ]
  },
  {
   "cell_type": "code",
   "execution_count": null,
   "metadata": {
    "id": "pUKKHy0mJW0c"
   },
   "outputs": [],
   "source": [
    "# delete 'Unnamed' column because it is the same as index\n",
    "df_health = df_health.drop('Unnamed: 0', axis = 1)"
   ]
  },
  {
   "cell_type": "markdown",
   "metadata": {
    "id": "DBWLl43jmMaA",
    "outputId": "ceaf4882-a762-4086-aca0-45e87cec3c31"
   },
   "source": [
    "##### Via GHED codebook:\n",
    "- Income: Country's income group for 2021 via Worldbank\n",
    "- che: Current health expenditure in millions of respective National Currency Unit (NCU)\n",
    "- che_gdp: Current health expenditure as a percentage of country GDP\n",
    "- che_pc_usd: Current health expenditure per capita in USD\n",
    "- gghed: Domestic general governmental health expenditure in millions NCU\n",
    "- pvtd: Domestic private health expenditure in millions NCU\n",
    "- pop: Population in thousands"
   ]
  },
  {
   "cell_type": "code",
   "execution_count": null,
   "metadata": {
    "colab": {
     "base_uri": "https://localhost:8080/"
    },
    "id": "jqCEW6VwDgPY",
    "outputId": "a4a5a823-4b91-485c-bb1b-f5457115c2cc"
   },
   "outputs": [],
   "source": [
    "df_health.columns"
   ]
  },
  {
   "cell_type": "code",
   "execution_count": null,
   "metadata": {
    "colab": {
     "base_uri": "https://localhost:8080/"
    },
    "id": "UDskxCx7niNx",
    "outputId": "c16b160b-2194-491f-f80f-8b1ff3b2d9bd"
   },
   "outputs": [],
   "source": [
    "# classify the columns as categorical, ordinal, discrete, continuous\n",
    "grouped_columns = df_health.columns.to_series().groupby(df_health.dtypes).groups\n",
    "classifications = {}\n",
    "dtype_classifications = {\n",
    "    'object': 'categorical',\n",
    "    'int64' : 'discrete',\n",
    "    'float64' : 'continous'\n",
    "}\n",
    "for dtype, columns in grouped_columns.items():\n",
    "  for column in columns:\n",
    "    classifications[column] = dtype_classifications[str(dtype)]\n",
    "# print out the classifications stored in in classifications{}\n",
    "for column, classification in classifications.items():\n",
    "  print(f\"'{column}' is '{classification}'\")"
   ]
  },
  {
   "cell_type": "code",
   "execution_count": null,
   "metadata": {
    "colab": {
     "base_uri": "https://localhost:8080/"
    },
    "id": "37ME8ElbJW0k",
    "outputId": "08f6eafb-fc7d-4a94-ffdd-39fb9a88d627"
   },
   "outputs": [],
   "source": [
    "# Find discrete (unique) values for 'country', 'income', 'region'\n",
    "df_health['country'].unique()"
   ]
  },
  {
   "cell_type": "code",
   "execution_count": null,
   "metadata": {
    "colab": {
     "base_uri": "https://localhost:8080/"
    },
    "id": "VtcrF8dDJW0l",
    "outputId": "18a2b69b-6dae-4cfc-f624-8db97bbe8ba5"
   },
   "outputs": [],
   "source": [
    "df_health['income'].unique()"
   ]
  },
  {
   "cell_type": "code",
   "execution_count": null,
   "metadata": {
    "colab": {
     "base_uri": "https://localhost:8080/"
    },
    "id": "iJSy0pDSJW0l",
    "outputId": "676c8968-0585-430a-e2e5-6e7fed8a7d9c"
   },
   "outputs": [],
   "source": [
    "df_health['region'].unique()"
   ]
  },
  {
   "cell_type": "code",
   "execution_count": null,
   "metadata": {
    "colab": {
     "base_uri": "https://localhost:8080/"
    },
    "id": "y3QMsww3JW0l",
    "outputId": "45846b39-9c48-4d47-f901-6e053faa21b1"
   },
   "outputs": [],
   "source": [
    "df_health[['country']].value_counts()"
   ]
  },
  {
   "cell_type": "code",
   "execution_count": null,
   "metadata": {
    "colab": {
     "base_uri": "https://localhost:8080/"
    },
    "id": "QvZG1IHuJW0m",
    "outputId": "2931dae7-877f-44a6-b5fe-3f7bbbdab2c8"
   },
   "outputs": [],
   "source": [
    "df_health[['income']].value_counts()"
   ]
  },
  {
   "cell_type": "code",
   "execution_count": null,
   "metadata": {
    "colab": {
     "base_uri": "https://localhost:8080/"
    },
    "id": "Ip9EPNufJW0m",
    "outputId": "01fbdc5f-0310-4aad-e6c9-4656aeb85f23"
   },
   "outputs": [],
   "source": [
    "df_health[['region']].value_counts()"
   ]
  },
  {
   "cell_type": "code",
   "execution_count": null,
   "metadata": {
    "colab": {
     "base_uri": "https://localhost:8080/"
    },
    "id": "d9OPL2VIJW0n",
    "outputId": "1ef42b91-4306-4086-e674-46c82d25f54a"
   },
   "outputs": [],
   "source": [
    "# Find mode of each categorical column\n",
    "df_health['country'].mode()"
   ]
  },
  {
   "cell_type": "code",
   "execution_count": null,
   "metadata": {
    "colab": {
     "base_uri": "https://localhost:8080/"
    },
    "id": "0-xClXpyJW0n",
    "outputId": "2dc2e414-7af4-4dda-a5bc-516b64df7860"
   },
   "outputs": [],
   "source": [
    "df_health['income'].mode()"
   ]
  },
  {
   "cell_type": "code",
   "execution_count": null,
   "metadata": {
    "colab": {
     "base_uri": "https://localhost:8080/"
    },
    "id": "tVKaLX6NJW0n",
    "outputId": "1cf64d02-ba8c-42b8-d127-ecb5bc32d45d"
   },
   "outputs": [],
   "source": [
    "df_health['region'].mode()"
   ]
  },
  {
   "cell_type": "code",
   "execution_count": null,
   "metadata": {
    "colab": {
     "base_uri": "https://localhost:8080/"
    },
    "id": "gtZNeFoapSYf",
    "outputId": "dd3f21f4-8bb8-4513-ff49-49ebe59c7a7b"
   },
   "outputs": [],
   "source": [
    "# create dictionary for classification\n",
    "columns_classification = {\n",
    "    'year': 'discrete',\n",
    "    'che_gdp': 'continuous',\n",
    "    'che_pc_usd': 'continuous',\n",
    "    'che': 'continuous',\n",
    "    'gghed': 'continuous',\n",
    "    'pvtd': 'continuous',\n",
    "    'pop': 'continuous'\n",
    "}\n",
    "# empty dictionary to store statistics\n",
    "statistics = {}\n",
    "\n",
    "for column, classification in columns_classification.items():\n",
    "    stats = {\n",
    "        'Range': df_health[column].max() - df_health[column].min(),\n",
    "        'Mean': df_health[column].mean(),\n",
    "        'Median': df_health[column].median(),\n",
    "        'Standard Deviation': df_health[column].std(),\n",
    "    }\n",
    "    statistics[column] = stats\n",
    "\n",
    "# the statistics for each column\n",
    "for column, stats in statistics.items():\n",
    "    print(f\"Statistics for column '{column}':\")\n",
    "    for stat_name, value in stats.items():\n",
    "        print(f\"\\t{stat_name}: {value}\")"
   ]
  },
  {
   "cell_type": "code",
   "execution_count": null,
   "metadata": {
    "id": "9ik9yaXw3JwC"
   },
   "outputs": [],
   "source": [
    "# find missing data\n",
    "missing_data = df_health.isnull()"
   ]
  },
  {
   "cell_type": "code",
   "execution_count": null,
   "metadata": {
    "colab": {
     "base_uri": "https://localhost:8080/"
    },
    "id": "VTUMNvD2JW0o",
    "outputId": "41a163f8-6646-4f18-cff9-6ece0bea86ce"
   },
   "outputs": [],
   "source": [
    "# count missing data in each column\n",
    "for column in missing_data.columns.values.tolist():\n",
    "    print(column)\n",
    "    print(missing_data[column].value_counts())\n",
    "    print('')"
   ]
  },
  {
   "cell_type": "code",
   "execution_count": null,
   "metadata": {
    "id": "QS8mupl8JW0p"
   },
   "outputs": [],
   "source": [
    "# replace missing che_gdp data with mean\n",
    "df_health['che_gdp'].replace(np.nan,df_health['che_gdp'].mean(), inplace = True)"
   ]
  },
  {
   "cell_type": "code",
   "execution_count": null,
   "metadata": {
    "id": "Y5AUn4_IJW0q"
   },
   "outputs": [],
   "source": [
    "# replace missing che_pc_usd data with mean\n",
    "df_health['che_pc_usd'].replace(np.nan,df_health['che_pc_usd'].mean(), inplace = True)"
   ]
  },
  {
   "cell_type": "code",
   "execution_count": null,
   "metadata": {
    "id": "OCp37HrFJW0q"
   },
   "outputs": [],
   "source": [
    "# replace missing che data with mean\n",
    "df_health['che'].replace(np.nan,df_health['che'].mean(), inplace = True)"
   ]
  },
  {
   "cell_type": "code",
   "execution_count": null,
   "metadata": {
    "id": "WymHSJzaJW0q"
   },
   "outputs": [],
   "source": [
    "# replace missing gghed data with mean\n",
    "df_health['gghed'].replace(np.nan,df_health['gghed'].mean(), inplace = True)"
   ]
  },
  {
   "cell_type": "code",
   "execution_count": null,
   "metadata": {
    "id": "7W0K3JrlJW0q"
   },
   "outputs": [],
   "source": [
    "# replace missing pvtd data with mean\n",
    "df_health['pvtd'].replace(np.nan,df_health['pvtd'].mean(), inplace = True)"
   ]
  },
  {
   "cell_type": "code",
   "execution_count": null,
   "metadata": {
    "id": "PC78c6a8JW0q"
   },
   "outputs": [],
   "source": [
    "# replace missing pop data with mean\n",
    "df_health['pop'].replace(np.nan,df_health['pop'].mean(), inplace = True)"
   ]
  },
  {
   "cell_type": "code",
   "execution_count": null,
   "metadata": {
    "colab": {
     "base_uri": "https://localhost:8080/"
    },
    "id": "CaQJIIZiJW0q",
    "outputId": "89910791-0c60-4f02-aa55-78a54bb9b87b"
   },
   "outputs": [],
   "source": [
    "# confirm missing data has been replaced\n",
    "df_health.info()"
   ]
  },
  {
   "cell_type": "code",
   "execution_count": null,
   "metadata": {
    "colab": {
     "base_uri": "https://localhost:8080/"
    },
    "id": "9j9_qwgtJW0q",
    "outputId": "42f225f2-03ac-4964-f0db-c61e48a83b90"
   },
   "outputs": [],
   "source": [
    "# check for duplicates\n",
    "# run through duplicates test\n",
    "# if duplicates - drop the rows\n",
    "pd.options.display.max_rows = 100\n",
    "print(df_health.duplicated())"
   ]
  },
  {
   "cell_type": "code",
   "execution_count": null,
   "metadata": {
    "id": "lvsw0-BAJW0r"
   },
   "outputs": [],
   "source": [
    "# drop duplicates\n",
    "df_nodup = df_health.drop_duplicates()"
   ]
  },
  {
   "cell_type": "code",
   "execution_count": null,
   "metadata": {
    "colab": {
     "base_uri": "https://localhost:8080/"
    },
    "id": "oas5gjv8JW0s",
    "outputId": "1ff8c89f-457c-4988-8a13-89a557fcb7e3"
   },
   "outputs": [],
   "source": [
    "df_health.shape"
   ]
  },
  {
   "cell_type": "code",
   "execution_count": null,
   "metadata": {
    "colab": {
     "base_uri": "https://localhost:8080/"
    },
    "id": "NuY6u2H3JW0t",
    "outputId": "2a7f844d-3170-4371-f2a7-007a0dfdd801"
   },
   "outputs": [],
   "source": [
    "# Confirming no duplicate rows by matching num rows\n",
    "df_nodup.shape"
   ]
  },
  {
   "cell_type": "markdown",
   "metadata": {
    "id": "z1BqKYn4DgPc"
   },
   "source": [
    "#### Correlations and Plotting Relationships"
   ]
  },
  {
   "cell_type": "code",
   "execution_count": null,
   "metadata": {
    "colab": {
     "base_uri": "https://localhost:8080/",
     "height": 269
    },
    "id": "mYTK68YfJW0u",
    "outputId": "8eb9d3a8-cad8-4b13-8489-73cc00bd58eb"
   },
   "outputs": [],
   "source": [
    "# determining correlation for GHED data\n",
    "df_health.corr(method = 'pearson', numeric_only = True)"
   ]
  },
  {
   "cell_type": "code",
   "execution_count": null,
   "metadata": {
    "id": "6u57zDdPJW0u"
   },
   "outputs": [],
   "source": [
    "# import linear regression model and seaborn\n",
    "from sklearn.linear_model import LinearRegression\n",
    "import seaborn as sns\n",
    "\n",
    "# determine best fit for high correlations\n",
    "# pvtd and gghed\n",
    "# gghed and che\n",
    "# pvtd and che"
   ]
  },
  {
   "cell_type": "code",
   "execution_count": null,
   "metadata": {
    "colab": {
     "base_uri": "https://localhost:8080/",
     "height": 74
    },
    "id": "URph7bh0JW0x",
    "outputId": "ab16b053-1780-43cf-d6dc-ab3ef0c799fb"
   },
   "outputs": [],
   "source": [
    "# create linear regression object\n",
    "lm = LinearRegression()\n",
    "\n",
    "# label variables to check\n",
    "X = df_health[['pvtd']]\n",
    "Y = df_health['gghed']\n",
    "\n",
    "# fit linear model\n",
    "lm.fit(X,Y)"
   ]
  },
  {
   "cell_type": "code",
   "execution_count": null,
   "metadata": {
    "colab": {
     "base_uri": "https://localhost:8080/",
     "height": 465
    },
    "id": "jdi1kmCaJW0y",
    "outputId": "2d539037-47d5-43bd-a7c4-07f7d0e8a885"
   },
   "outputs": [],
   "source": [
    "# plot linear regression\n",
    "sns.regplot(\n",
    "    data = df_health,\n",
    "    x = 'pvtd',\n",
    "    y = 'gghed'\n",
    ")\n",
    "plt.ylim(0,)\n",
    "plt.show()"
   ]
  },
  {
   "cell_type": "code",
   "execution_count": null,
   "metadata": {
    "colab": {
     "base_uri": "https://localhost:8080/",
     "height": 74
    },
    "id": "X5fNcyZaJW0z",
    "outputId": "dc57f75f-9cfe-484c-f0b5-4d53d3a26b63"
   },
   "outputs": [],
   "source": [
    "# repeat with gghed and che\n",
    "\n",
    "# label variables to check\n",
    "X = df_health[['gghed']]\n",
    "Y = df_health['che']\n",
    "\n",
    "# fit linear model\n",
    "lm.fit(X,Y)"
   ]
  },
  {
   "cell_type": "code",
   "execution_count": null,
   "metadata": {
    "colab": {
     "base_uri": "https://localhost:8080/",
     "height": 465
    },
    "id": "dknss95kJW0z",
    "outputId": "2320b43e-c55f-4653-c8ae-42f2b91a313b"
   },
   "outputs": [],
   "source": [
    "# plot linear regression\n",
    "sns.regplot(\n",
    "    data = df_health,\n",
    "    x = 'che',\n",
    "    y = 'gghed'\n",
    ")\n",
    "plt.ylim(0,)\n",
    "plt.show()"
   ]
  },
  {
   "cell_type": "code",
   "execution_count": null,
   "metadata": {
    "colab": {
     "base_uri": "https://localhost:8080/",
     "height": 74
    },
    "id": "-j3_HpsxJW0z",
    "outputId": "04a6eaaf-cd31-4e2a-ac11-feed12bd3170"
   },
   "outputs": [],
   "source": [
    "# repeat with pvtd and che\n",
    "\n",
    "# label variables to check\n",
    "X = df_health[['che']]\n",
    "Y = df_health['pvtd']\n",
    "\n",
    "# fit linear model\n",
    "lm.fit(X,Y)"
   ]
  },
  {
   "cell_type": "code",
   "execution_count": null,
   "metadata": {
    "colab": {
     "base_uri": "https://localhost:8080/",
     "height": 465
    },
    "id": "NvZo2coIJW02",
    "outputId": "94834359-e987-476c-9ecc-237384cf0125"
   },
   "outputs": [],
   "source": [
    "# plot linear regression with che and pvtd\n",
    "sns.regplot(\n",
    "    data = df_health,\n",
    "    x = 'che',\n",
    "    y = 'pvtd'\n",
    ")\n",
    "plt.ylim(0,)\n",
    "plt.show()"
   ]
  },
  {
   "cell_type": "markdown",
   "metadata": {
    "id": "01N-XOlGJW03"
   },
   "source": [
    "#### Analysis for global city temperature data"
   ]
  },
  {
   "cell_type": "code",
   "execution_count": null,
   "metadata": {
    "id": "QMZrDLpeJW09"
   },
   "outputs": [],
   "source": [
    "# read in global city_temperature data from Berkeley Earth dataset\n",
    "df_temp = pd.read_csv('city_temperature.csv', dtype = {\n",
    "                    'State': 'object', 'Month': int, 'Day': int, 'Year': int, 'AvgTemperature': float}\n",
    ")"
   ]
  },
  {
   "cell_type": "code",
   "execution_count": null,
   "metadata": {
    "colab": {
     "base_uri": "https://localhost:8080/"
    },
    "id": "yZBivEB4JW0-",
    "outputId": "8bbc780a-5b6f-43b2-8ea5-e7c35d88bdc0"
   },
   "outputs": [],
   "source": [
    "df_temp.shape"
   ]
  },
  {
   "cell_type": "code",
   "execution_count": null,
   "metadata": {
    "colab": {
     "base_uri": "https://localhost:8080/"
    },
    "id": "QjcMbElaJW1D",
    "outputId": "c11482ba-f004-427c-9e0e-b0e51e46a40f"
   },
   "outputs": [],
   "source": [
    "df_temp.info()"
   ]
  },
  {
   "cell_type": "code",
   "execution_count": null,
   "metadata": {
    "colab": {
     "base_uri": "https://localhost:8080/",
     "height": 206
    },
    "id": "pE3Y7i90JW1D",
    "outputId": "aee7b8b3-6dd3-4846-d3ef-bc9f64c6ed64"
   },
   "outputs": [],
   "source": [
    "df_temp.head(5)"
   ]
  },
  {
   "cell_type": "code",
   "execution_count": null,
   "metadata": {
    "colab": {
     "base_uri": "https://localhost:8080/",
     "height": 206
    },
    "id": "n_Ccy4ICJW1D",
    "outputId": "1ccd5106-fe31-4578-899c-ab09759c0d4b"
   },
   "outputs": [],
   "source": [
    "df_temp.tail(5)"
   ]
  },
  {
   "cell_type": "code",
   "execution_count": null,
   "metadata": {
    "colab": {
     "base_uri": "https://localhost:8080/"
    },
    "id": "TgZ4CJ9IJW1E",
    "outputId": "63fb291d-f352-4223-9f92-3a13bc8a5ed3"
   },
   "outputs": [],
   "source": [
    "# Via data documentation:\n",
    "# State: 50% missing data as only applicable to certain countries\n",
    "# AvgTemperature: in degrees Fahrenheit\n",
    "df_temp.columns"
   ]
  },
  {
   "cell_type": "code",
   "execution_count": null,
   "metadata": {
    "colab": {
     "base_uri": "https://localhost:8080/"
    },
    "id": "wm_kQ4ziJW1F",
    "outputId": "617ae383-4d25-4f95-cc23-5c5de72994fc"
   },
   "outputs": [],
   "source": [
    "# classify datatypes\n",
    "\n",
    "column_classification = {\n",
    "    'Region': 'Categorical',\n",
    "    'Country': 'Categorical',\n",
    "    'State': 'Categorical',\n",
    "    'City': 'Categorical',\n",
    "    'Month': 'Ordinal',\n",
    "    'Day': 'Ordinal',\n",
    "    'Year': 'Ordinal',\n",
    "    'AvgTemperature': 'Continuous'\n",
    "}\n",
    "\n",
    "for column, classification in column_classification.items():\n",
    "    print(f\"{column}: {classification}\")"
   ]
  },
  {
   "cell_type": "code",
   "execution_count": null,
   "metadata": {
    "colab": {
     "base_uri": "https://localhost:8080/"
    },
    "id": "0P40_eduJW1F",
    "outputId": "3b8c0822-1e09-4514-8f4c-c41d967b4a7f"
   },
   "outputs": [],
   "source": [
    "# Find discrete values for 'Region', 'Country', 'State', 'City'\n",
    "df_temp['Region'].unique()"
   ]
  },
  {
   "cell_type": "code",
   "execution_count": null,
   "metadata": {
    "colab": {
     "base_uri": "https://localhost:8080/"
    },
    "id": "oYVQCc4CJW1G",
    "outputId": "26ab77b7-c9dd-4348-91c9-dad5785072ca"
   },
   "outputs": [],
   "source": [
    "df_temp['Country'].unique()"
   ]
  },
  {
   "cell_type": "code",
   "execution_count": null,
   "metadata": {
    "colab": {
     "base_uri": "https://localhost:8080/"
    },
    "id": "3KjEu47yJW1G",
    "outputId": "ee67006b-b330-43ff-9095-2961e1b498a4"
   },
   "outputs": [],
   "source": [
    "df_temp['State'].unique()"
   ]
  },
  {
   "cell_type": "code",
   "execution_count": null,
   "metadata": {
    "colab": {
     "base_uri": "https://localhost:8080/"
    },
    "id": "UVEGkNKyJW1H",
    "outputId": "52372d17-c8f7-40a7-9ad4-acabf7a81c80"
   },
   "outputs": [],
   "source": [
    "df_temp['City'].unique()"
   ]
  },
  {
   "cell_type": "code",
   "execution_count": null,
   "metadata": {
    "colab": {
     "base_uri": "https://localhost:8080/"
    },
    "id": "KMuaN0J-JW1H",
    "outputId": "ffb69b7d-3b29-465f-fba5-fcaa9690a238"
   },
   "outputs": [],
   "source": [
    "# Find frequency distribution for categorical columns\n",
    "df_temp[['Region']].value_counts()"
   ]
  },
  {
   "cell_type": "code",
   "execution_count": null,
   "metadata": {
    "colab": {
     "base_uri": "https://localhost:8080/"
    },
    "id": "090PlCUwJW1H",
    "outputId": "4fe41564-77ac-4739-fde1-0371d7da9b04"
   },
   "outputs": [],
   "source": [
    "df_temp[['Country']].value_counts()"
   ]
  },
  {
   "cell_type": "code",
   "execution_count": null,
   "metadata": {
    "colab": {
     "base_uri": "https://localhost:8080/"
    },
    "id": "DPNXwIPsJW1I",
    "outputId": "dc56526a-3ee7-45fb-fb45-06f8e091c5aa"
   },
   "outputs": [],
   "source": [
    "df_temp[['State']].value_counts()"
   ]
  },
  {
   "cell_type": "code",
   "execution_count": null,
   "metadata": {
    "colab": {
     "base_uri": "https://localhost:8080/"
    },
    "id": "I5ulf5JsJW1I",
    "outputId": "d0c6b66d-39d1-4e20-a875-62bee6e261ea"
   },
   "outputs": [],
   "source": [
    "df_temp[['City']].value_counts()"
   ]
  },
  {
   "cell_type": "code",
   "execution_count": null,
   "metadata": {
    "colab": {
     "base_uri": "https://localhost:8080/"
    },
    "id": "nfT6zvH3JW1J",
    "outputId": "7864c624-bce5-4a50-933e-9f883db59843"
   },
   "outputs": [],
   "source": [
    "# Find mode for categorical columns\n",
    "df_temp['Region'].mode()"
   ]
  },
  {
   "cell_type": "code",
   "execution_count": null,
   "metadata": {
    "colab": {
     "base_uri": "https://localhost:8080/"
    },
    "id": "JJiq_jgNJW1J",
    "outputId": "00d1f31f-258f-4526-9c8f-1a9d19507b9d"
   },
   "outputs": [],
   "source": [
    "df_temp['Country'].mode()"
   ]
  },
  {
   "cell_type": "code",
   "execution_count": null,
   "metadata": {
    "colab": {
     "base_uri": "https://localhost:8080/"
    },
    "id": "hEaHLkQPJW1J",
    "outputId": "01fee7a7-5405-4c26-e807-d7f2abaf294f"
   },
   "outputs": [],
   "source": [
    "df_temp['State'].mode()"
   ]
  },
  {
   "cell_type": "code",
   "execution_count": null,
   "metadata": {
    "colab": {
     "base_uri": "https://localhost:8080/"
    },
    "id": "bz8ICl21JW1J",
    "outputId": "8f7d6406-44df-4ff8-c932-3df605b5a845"
   },
   "outputs": [],
   "source": [
    "df_temp['City'].mode()"
   ]
  },
  {
   "cell_type": "code",
   "execution_count": null,
   "metadata": {
    "colab": {
     "base_uri": "https://localhost:8080/"
    },
    "id": "c8JLCLi3JW1K",
    "outputId": "5529bce5-afe5-4180-d37a-0ac0f6fc4dcd"
   },
   "outputs": [],
   "source": [
    "# get basic statistics for non-categorical columns\n",
    "temp_columns_classification = {\n",
    "    'Month' : 'ordinal',\n",
    "    'Day' : 'ordinal',\n",
    "    'Year' : 'ordinal',\n",
    "    'AvgTemperature' : 'continuous'\n",
    "}\n",
    "\n",
    "# empty dictionary to store statistics\n",
    "temp_statistics = {}\n",
    "\n",
    "for column, classification in temp_columns_classification.items():\n",
    "    stats = {\n",
    "        'Range': df_temp[column].max() - df_temp[column].min(),\n",
    "        'Mean': df_temp[column].mean(),\n",
    "        'Median': df_temp[column].median(),\n",
    "        'Standard Deviation': df_temp[column].std(),\n",
    "    }\n",
    "    temp_statistics[column] = stats\n",
    "\n",
    "# the statistics for each column\n",
    "for column, stats in temp_statistics.items():\n",
    "    print(f\"Statistics for column '{column}':\")\n",
    "    for stat_name, value in stats.items():\n",
    "        print(f\"\\t{stat_name}: {value}\")"
   ]
  },
  {
   "cell_type": "code",
   "execution_count": null,
   "metadata": {
    "id": "idCjm7GZJW1K"
   },
   "outputs": [],
   "source": [
    "# find missing data\n",
    "missing_data = df_temp.isnull()"
   ]
  },
  {
   "cell_type": "code",
   "execution_count": null,
   "metadata": {
    "colab": {
     "base_uri": "https://localhost:8080/"
    },
    "id": "SKUsSN-7JW1L",
    "outputId": "393d8c94-4b3d-4f7f-aac0-2729addbfa76"
   },
   "outputs": [],
   "source": [
    "# count missing data in each column\n",
    "# missing data in State column cannot be replaced\n",
    "for column in missing_data.columns.values.tolist():\n",
    "    print(column)\n",
    "    print(missing_data[column].value_counts())\n",
    "    print('')"
   ]
  },
  {
   "cell_type": "code",
   "execution_count": null,
   "metadata": {
    "colab": {
     "base_uri": "https://localhost:8080/"
    },
    "id": "OVKPp-QNJW1N",
    "outputId": "df5f718b-d9b4-4ea9-944a-4b120a5f5813"
   },
   "outputs": [],
   "source": [
    "# check for duplicates\n",
    "# run through duplicates test\n",
    "# if duplicates - drop the rows\n",
    "pd.options.display.max_rows = 2000000\n",
    "print(df_temp.duplicated())"
   ]
  },
  {
   "cell_type": "code",
   "execution_count": null,
   "metadata": {
    "id": "ZL0RLS0RJW1N"
   },
   "outputs": [],
   "source": [
    "# drop duplicates\n",
    "df_nodup = df_temp.drop_duplicates()"
   ]
  },
  {
   "cell_type": "code",
   "execution_count": null,
   "metadata": {
    "colab": {
     "base_uri": "https://localhost:8080/"
    },
    "id": "Een4nUN4JW1O",
    "outputId": "d87cccf9-2204-4f4d-8bb9-cfa6f824a1f3"
   },
   "outputs": [],
   "source": [
    "df_temp.shape"
   ]
  },
  {
   "cell_type": "code",
   "execution_count": null,
   "metadata": {
    "colab": {
     "base_uri": "https://localhost:8080/"
    },
    "id": "87r4wzW4JW1P",
    "outputId": "31b6c2e1-fd7c-47e1-95e0-ecbcbf68d5e2"
   },
   "outputs": [],
   "source": [
    "# about 10,000 duplicates to be deleted\n",
    "df_nodup.shape"
   ]
  },
  {
   "cell_type": "code",
   "execution_count": null,
   "metadata": {
    "colab": {
     "base_uri": "https://localhost:8080/",
     "height": 175
    },
    "id": "Yvy6QiQQJW1P",
    "outputId": "fb3655ee-3fb2-4173-b7d9-4da6c35e90c3"
   },
   "outputs": [],
   "source": [
    "# show correlation of 2nd dataset\n",
    "# there is no correlation which tracks for the dataset which follows from type of data\n",
    "df_temp.corr(method = 'pearson', numeric_only = True)"
   ]
  },
  {
   "cell_type": "code",
   "execution_count": null,
   "metadata": {
    "id": "0Y3rm1w_JW1Q"
   },
   "outputs": [],
   "source": [
    "# null temp value sometimes shown as -99.0 therefore clearing null rows\n",
    "df_temp.drop(df_temp[df_temp['AvgTemperature'] == -99.0].index, inplace = True)"
   ]
  },
  {
   "cell_type": "markdown",
   "metadata": {
    "id": "K_XsyPWsJwNk"
   },
   "source": [
    "#### Merging Dataframes"
   ]
  },
  {
   "cell_type": "code",
   "execution_count": null,
   "metadata": {
    "colab": {
     "base_uri": "https://localhost:8080/",
     "height": 423
    },
    "id": "7DxyatyAk6yh",
    "outputId": "11047e6d-aa36-466d-ab9d-f15e2ec73961"
   },
   "outputs": [],
   "source": [
    "# if value in df_health and not in df_temp then wil be dropped in inner join\n",
    "# replace country names with more basic name for more merge results\n",
    "df_health.replace('Lao People\\'s Democratic Republic','Laos')\n",
    "df_health.replace('Netherlands (Kingdom of the)','The Netherlands')\n",
    "df_health.replace('Russian Federation','Russia')\n",
    "df_health.replace(['Serbia','Montenegro'],'Serbia-Montenegro')\n",
    "df_health.replace('United Kingdom of Great Britain and Northern Ireland','United Kingdom')\n",
    "df_health.replace('Bolivia (Plurinational State of)','Bolivia')\n",
    "df_health.replace('Venezuela (Bolivarian Republic of)','Venezuela')\n",
    "df_health.replace('United States of America','US')\n",
    "df_health.replace('Côte d\\'Ivoire','Ivory Coast')\n",
    "df_health.replace('Türkiye','Turkey')\n",
    "df_health.replace('Republic of Korea','South Korea')\n",
    "df_health.replace('Viet Nam','Vietnam')\n",
    "df_temp.replace('Myanmar (Burma)','Myanmar')\n",
    "df_temp.replace('Czech Republic','Czechia')\n",
    "df_health.replace('United Republic of Tanzania','Tanzania')\n",
    "df_health.replace('Syrian Arab Republic','Syria')\n",
    "df_health.replace('North Macedonia','Macedonia')\n",
    "df_temp.replace('Equador','Ecuador')"
   ]
  },
  {
   "cell_type": "code",
   "execution_count": null,
   "metadata": {
    "id": "gOc85VA2JrGe"
   },
   "outputs": [],
   "source": [
    "# create group with wanted data and group by country and year\n",
    "# in preparation for merge\n",
    "df_temp_group = df_temp[['Country','Year','AvgTemperature']]\n",
    "\n",
    "df_temp_group = df_temp_group.groupby(['Country','Year']).mean()"
   ]
  },
  {
   "cell_type": "code",
   "execution_count": null,
   "metadata": {
    "colab": {
     "base_uri": "https://localhost:8080/",
     "height": 313
    },
    "id": "9feTZfZIf4Ul",
    "outputId": "d174d8a0-14ba-456f-df2b-76f4bb94e43b"
   },
   "outputs": [],
   "source": [
    "df_health.rename(columns = {'country':'Country',\n",
    "                            'year':'Year'},\n",
    "                 inplace = True)\n",
    "df_health.head()"
   ]
  },
  {
   "cell_type": "code",
   "execution_count": null,
   "metadata": {
    "colab": {
     "base_uri": "https://localhost:8080/",
     "height": 1000
    },
    "id": "eQorNbpSjPzW",
    "outputId": "d36de169-1ee5-413c-a15e-bb7fbf472a67",
    "scrolled": true
   },
   "outputs": [],
   "source": [
    "merged_df = df_temp_group.merge(df_health,\n",
    "                how = 'inner',\n",
    "                on = ['Country','Year']\n",
    "               )\n",
    "merged_df.head(200)"
   ]
  },
  {
   "cell_type": "code",
   "execution_count": null,
   "metadata": {
    "colab": {
     "base_uri": "https://localhost:8080/"
    },
    "id": "kuaOab2SjQe5",
    "outputId": "bb9c1d00-2c8f-4ec9-cb18-a334ed9f8819"
   },
   "outputs": [],
   "source": [
    "merged_df.shape"
   ]
  },
  {
   "cell_type": "code",
   "execution_count": null,
   "metadata": {
    "colab": {
     "base_uri": "https://localhost:8080/",
     "height": 300
    },
    "id": "0NT8qcb3jfyS",
    "outputId": "13090f87-d048-4b9a-8a09-f7617e7d4794"
   },
   "outputs": [],
   "source": [
    "# check for correlation of merged_df\n",
    "merged_df.corr(numeric_only= 'True')"
   ]
  },
  {
   "cell_type": "code",
   "execution_count": null,
   "metadata": {
    "colab": {
     "base_uri": "https://localhost:8080/",
     "height": 313
    },
    "id": "RsZTN3kODgPn",
    "outputId": "24cb8b5f-5f45-487f-c5a7-83d2a0b01e6f"
   },
   "outputs": [],
   "source": [
    "# merged df currency standardization\n",
    "merged_df['che_usd_per_capita'] = (merged_df['che'] * merged_df['che_pc_usd']) / merged_df['pop']\n",
    "merged_df['pvtd_usd_per_capita'] = (merged_df['pvtd'] * merged_df['che_pc_usd']) / merged_df['pop']\n",
    "merged_df['gghed_usd_per_capita'] = (merged_df['gghed'] * merged_df['che_pc_usd']) / merged_df['pop']\n",
    "\n",
    "merged_df.head()"
   ]
  },
  {
   "cell_type": "markdown",
   "metadata": {
    "id": "ItYX4WJsDgPn"
   },
   "source": [
    "### Plotting Trends and Creating Visualizations"
   ]
  },
  {
   "cell_type": "markdown",
   "metadata": {
    "id": "GHG3HGAIDgPn"
   },
   "source": [
    "#### Plotly Chloropleths"
   ]
  },
  {
   "cell_type": "code",
   "execution_count": null,
   "metadata": {
    "id": "uVB09jYhDgPn"
   },
   "outputs": [],
   "source": [
    "# generating average temperatures by country and year for chloropleth\n",
    "annual_avg_temp = df_temp.groupby(['Country', 'Year'])['AvgTemperature'].mean().reset_index()\n",
    "global_min_temp = annual_avg_temp['AvgTemperature'].min()\n",
    "global_max_temp = annual_avg_temp['AvgTemperature'].max()"
   ]
  },
  {
   "cell_type": "code",
   "execution_count": null,
   "metadata": {
    "id": "lBUUmsY7DgPn"
   },
   "outputs": [],
   "source": [
    "# sorting as integer\n",
    "annual_avg_temp['Year'] = annual_avg_temp['Year'].astype(int)\n",
    "annual_avg_temp = annual_avg_temp.sort_values('Year')"
   ]
  },
  {
   "cell_type": "code",
   "execution_count": null,
   "metadata": {
    "colab": {
     "base_uri": "https://localhost:8080/",
     "height": 517
    },
    "id": "ggSIG5-vDgPn",
    "outputId": "b111d69f-0652-46ba-af61-f0f8c2b35666"
   },
   "outputs": [],
   "source": [
    "# plotting chloropleth map\n",
    "fig = px.choropleth(\n",
    "    annual_avg_temp,\n",
    "    locations='Country',\n",
    "    locationmode='country names',\n",
    "    color='AvgTemperature',\n",
    "    hover_name='Country',\n",
    "    animation_frame='Year',\n",
    "    color_continuous_scale=px.colors.sequential.Jet,\n",
    "    title='Annual Average Temperature by Country',\n",
    "    range_color=[global_min_temp, global_max_temp]\n",
    ")\n",
    "\n",
    "fig.update_layout(\n",
    "    title_text = 'Annual Average Temperature in Fahrenheit over Time',\n",
    "    width = 800,\n",
    "    height = 500,\n",
    "    geo = dict(projection = {'type' : 'hammer'})\n",
    ")\n",
    "\n",
    "fig.show()\n",
    "\n",
    "plot_json = pio.to_json(fig)\n",
    "with open('plot_data.json', 'w') as f:\n",
    "    json.dump(plot_json, f)"
   ]
  },
  {
   "cell_type": "code",
   "execution_count": null,
   "metadata": {
    "id": "M68HlNb5DgPo"
   },
   "outputs": [],
   "source": [
    "# create inflation adjusted column using U.S. Urban Consumers CPI Feb. 2024\n",
    "df2 = df_health\n",
    "df2 = df2.drop(df2[df2['Year'] > 2020].index)\n",
    "df2['che_pc_usd_infl'] = (df2['che_pc_usd'] / 605.162) * 100"
   ]
  },
  {
   "cell_type": "code",
   "execution_count": null,
   "metadata": {
    "id": "mQ1oVRWNDgPo"
   },
   "outputs": [],
   "source": [
    "# define max and min for range in plot\n",
    "che_pc_max = df2['che_pc_usd_infl'].max()\n",
    "che_pc_min = df2['che_pc_usd_infl'].min()"
   ]
  },
  {
   "cell_type": "code",
   "execution_count": null,
   "metadata": {
    "colab": {
     "base_uri": "https://localhost:8080/",
     "height": 717
    },
    "id": "FIuxiwnYDgPo",
    "outputId": "067e7728-ca62-469e-ac31-1ff1c67f3f21"
   },
   "outputs": [],
   "source": [
    "# create choropleth for current health expenditure per capita in USD\n",
    "fig = px.choropleth(\n",
    "    df2,\n",
    "    locations = 'Country',\n",
    "    locationmode = 'country names',\n",
    "    color = 'che_pc_usd_infl',\n",
    "    hover_name = 'Country',\n",
    "    animation_frame = 'Year',\n",
    "    color_continuous_scale = px.colors.sequential.Sunsetdark,\n",
    "    title = 'Inflation Adjusted Health Expenditure Per Capita',\n",
    "    range_color = [che_pc_min,che_pc_max]\n",
    ")\n",
    "\n",
    "fig.update_layout(\n",
    "    width = 800,\n",
    "    height = 700,\n",
    "    geo = dict(projection = {'type' : 'hammer'})\n",
    ")\n",
    "\n",
    "fig.show()\n",
    "\n",
    "plot_json2 = pio.to_json(fig)\n",
    "with open('plot_data2.json', 'w') as f:\n",
    "    json.dump(plot_json2, f)"
   ]
  },
  {
   "cell_type": "markdown",
   "metadata": {
    "id": "OZZv7WHBDgPo"
   },
   "source": [
    "#### Altair Scatterplot"
   ]
  },
  {
   "cell_type": "code",
   "execution_count": null,
   "metadata": {
    "id": "ymMrDrsiDgPo"
   },
   "outputs": [],
   "source": [
    "# Calculating percent change for 'che_usd_per_capita' and average temperature from 2000 to 2020\n",
    "merged_df_2000 = merged_df[merged_df['Year'] == 2000].set_index('Country')\n",
    "merged_df_2020 = merged_df[merged_df['Year'] == 2020].set_index('Country')\n",
    "\n",
    "merged_df_diff = merged_df_2000.join(merged_df_2020, lsuffix='_2000', rsuffix='_2020')\n",
    "\n",
    "merged_df_diff['che_usd_per_capita_percent_change'] = ((merged_df_diff['che_usd_per_capita_2020'] - merged_df_diff['che_usd_per_capita_2000']) / merged_df_diff['che_usd_per_capita_2000']) * 100\n",
    "merged_df_diff['che_usd_per_capita_percent_change'].fillna(0, inplace=True)\n",
    "\n",
    "merged_df_diff['che_usd_per_capita_percent_change'] = merged_df_diff['che_usd_per_capita_percent_change'].round(2)\n",
    "\n",
    "avg_temperature_2000 = merged_df_2000.groupby('Country')['AvgTemperature'].mean().reset_index()\n",
    "avg_temperature_2000.columns = ['Country', 'AvgTemperature_mean_2000']\n",
    "\n",
    "avg_temperature_2020 = merged_df_2020.groupby('Country')['AvgTemperature'].mean().reset_index()\n",
    "avg_temperature_2020.columns = ['Country', 'AvgTemperature_mean_2020']\n",
    "\n",
    "merged_avg_temperature = pd.merge(avg_temperature_2000, avg_temperature_2020, on='Country')\n",
    "merged_avg_temperature['AvgTemperature_mean'] = (merged_avg_temperature['AvgTemperature_mean_2000'] + merged_avg_temperature['AvgTemperature_mean_2020']) / 2\n",
    "\n",
    "combined_df = pd.merge(merged_df_diff, merged_avg_temperature, on='Country')\n"
   ]
  },
  {
   "cell_type": "code",
   "execution_count": null,
   "metadata": {
    "colab": {
     "base_uri": "https://localhost:8080/",
     "height": 486
    },
    "id": "Ggsq12uiDgPo",
    "outputId": "983a1a2e-7034-4f07-bf4f-baf1fefc29e5"
   },
   "outputs": [],
   "source": [
    "# scatterplot for change in health expenditure vs country's avg temp\n",
    "scatterplot = alt.Chart(combined_df).mark_circle(size=100).encode(  # Adjust the size as needed\n",
    "    x=alt.X('AvgTemperature_mean', title='Average Temperature', scale=alt.Scale(domain=[20, 90])),\n",
    "    y=alt.Y('che_usd_per_capita_percent_change', title='Percent Change in Healthcare Expenditure (USD)', scale=alt.Scale(domain=[0, 15000])),\n",
    "    color=alt.Color('region_2000', title='Region'),\n",
    "    tooltip=['Country:N']\n",
    ").properties(\n",
    "    width=600,\n",
    "    height=400,\n",
    "    title = 'Change in Health Expenditure vs. Average Temperature'\n",
    ").interactive()\n",
    "\n",
    "scatterplot"
   ]
  },
  {
   "cell_type": "code",
   "execution_count": null,
   "metadata": {
    "id": "9RWPufBnE_NR"
   },
   "outputs": [],
   "source": [
    "# Save the chart as HTML for dashboard\n",
    "html_path = \"scatterplot.html\"\n",
    "scatterplot.save(html_path)"
   ]
  },
  {
   "cell_type": "markdown",
   "metadata": {},
   "source": [
    "#### Altair plot #2"
   ]
  },
  {
   "cell_type": "code",
   "execution_count": null,
   "metadata": {
    "colab": {
     "base_uri": "https://localhost:8080/",
     "height": 52
    },
    "id": "Gyo41A6ADgPp",
    "outputId": "13eff6b7-02e4-4a9c-fbd7-e3dcf74f0e63"
   },
   "outputs": [],
   "source": [
    "# graph to show difference in growth of private and domestic healthcare over time\n",
    "base = alt.Chart(merged_df).encode(\n",
    "    x=alt.X('Year:O', axis=alt.Axis(title='Year')),\n",
    "    tooltip=['Country:N', 'Year:O', 'pop:Q']\n",
    ").properties(\n",
    "    width=800,\n",
    "    height=600\n",
    ").interactive()\n",
    "\n",
    "private_healthcare = base.mark_circle(size=60, color='blue').encode(\n",
    "    y=alt.Y('pvtd_usd_per_capita:Q', axis=alt.Axis(title='Private Healthcare Spending (USD)',\n",
    "                                                   titleColor='blue'))\n",
    ")\n",
    "\n",
    "domestic_healthcare = base.mark_circle(size=60, color='green').encode(\n",
    "    y=alt.Y('gghed_usd_per_capita:Q', axis=alt.Axis(title='Domestic Healthcare Spending (USD)',\n",
    "                                                    titleColor='green'))\n",
    ")\n",
    "\n",
    "layered_chart = alt.layer(private_healthcare, domestic_healthcare).resolve_scale(\n",
    "    y='independent'\n",
    ")\n",
    "\n",
    "layered_chart"
   ]
  },
  {
   "cell_type": "code",
   "execution_count": null,
   "metadata": {
    "id": "Rz5en35zFEUS"
   },
   "outputs": [],
   "source": [
    "# Save the chart as HTML\n",
    "html_path = \"layered_chart.html\"\n",
    "layered_chart.save(html_path)"
   ]
  },
  {
   "cell_type": "markdown",
   "metadata": {
    "id": "E6CrlGB7DgPp"
   },
   "source": [
    "#### Altair Bar Chart and Linked Line Chart"
   ]
  },
  {
   "cell_type": "code",
   "execution_count": null,
   "metadata": {
    "colab": {
     "base_uri": "https://localhost:8080/",
     "height": 211
    },
    "id": "rwOJWks-DgPp",
    "outputId": "027964fd-d9a9-4807-b5eb-12af23a7407f"
   },
   "outputs": [],
   "source": [
    "# graph to show health expenditure as percentage of GDP for different years\n",
    "# linked to a selected country's temperature over time \n",
    "# utilizing selection_point filter for interactivity\n",
    "merged_df = merged_df.sort_values(by=['che_gdp'])\n",
    "\n",
    "year_selector = alt.selection_point(\n",
    "    name = 'Year',\n",
    "    fields = ['Year'],\n",
    "    bind = alt.binding_range(min = 2000, max = 2020, step = 1, name = 'Select Year:'),\n",
    "    value = 2000\n",
    ")\n",
    "\n",
    "che_year_chart = alt.Chart(merged_df).mark_bar().encode(\n",
    "    alt.X('Country:N', sort=None).title('Country'),\n",
    "    alt.Y('che_gdp:Q').scale(domain=(0,20)).title('Healthcare Expenditure as a % of GDP'),\n",
    "    alt.Color('income:O').scale(domain=['High','Upper-middle','Lower-middle','Low'],\n",
    "                                range=['#002253','#3A5888','#7095BF','#ADD5F7']),\n",
    "    tooltip = ['Country','che_gdp']\n",
    ").properties(\n",
    "    width = 1000,\n",
    "    title = 'Global Income, Healthcare Spending, and Temperature over Time'\n",
    ").add_params(\n",
    "    year_selector,\n",
    ").transform_filter(\n",
    "    year_selector\n",
    ")\n",
    "\n",
    "# graph to show relationship between average temperature and WHO's income level\n",
    "\n",
    "country_temp = alt.Chart(merged_df).mark_line().encode(\n",
    "    alt.X('Country'),\n",
    "    alt.Y('AvgTemperature').title('Yearly Average Temperature (°F)'),\n",
    "    alt.Color('income:O').scale(domain=['High','Upper-middle','Lower-middle','Low'],\n",
    "                                range=['#002253','#3A5888','#7095BF','#ADD5F7'])\n",
    ").transform_filter(\n",
    "    year_selector\n",
    ").properties(\n",
    "    width = 1000,\n",
    "    height = 200\n",
    ")\n",
    "\n",
    "che_year_chart & country_temp"
   ]
  },
  {
   "cell_type": "code",
   "execution_count": null,
   "metadata": {
    "id": "2MRRl7wXIDT4"
   },
   "outputs": [],
   "source": [
    "# save as html for dashboard\n",
    "chart_to_save = che_year_chart & country_temp\n",
    "html_path = \"linebar.html\"\n",
    "chart_to_save.save(html_path)"
   ]
  }
 ],
 "metadata": {
  "colab": {
   "provenance": []
  },
  "kernelspec": {
   "display_name": "Python 3 (ipykernel)",
   "language": "python",
   "name": "python3"
  },
  "language_info": {
   "codemirror_mode": {
    "name": "ipython",
    "version": 3
   },
   "file_extension": ".py",
   "mimetype": "text/x-python",
   "name": "python",
   "nbconvert_exporter": "python",
   "pygments_lexer": "ipython3",
   "version": "3.11.5"
  }
 },
 "nbformat": 4,
 "nbformat_minor": 4
}
